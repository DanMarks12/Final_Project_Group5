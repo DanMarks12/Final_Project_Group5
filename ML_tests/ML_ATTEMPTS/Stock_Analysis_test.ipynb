{
 "cells": [
  {
   "cell_type": "code",
   "execution_count": 2,
   "metadata": {},
   "outputs": [
    {
     "name": "stdout",
     "output_type": "stream",
     "text": [
      "Note: you may need to restart the kernel to use updated packages.\n"
     ]
    },
    {
     "name": "stderr",
     "output_type": "stream",
     "text": [
      "\n",
      "Usage:   \n",
      "  C:\\Users\\dan.marks\\Anaconda3\\envs\\mlenv\\python.exe -m pip install [options] <requirement specifier> [package-index-options] ...\n",
      "  C:\\Users\\dan.marks\\Anaconda3\\envs\\mlenv\\python.exe -m pip install [options] -r <requirements file> [package-index-options] ...\n",
      "  C:\\Users\\dan.marks\\Anaconda3\\envs\\mlenv\\python.exe -m pip install [options] [-e] <vcs project url> ...\n",
      "  C:\\Users\\dan.marks\\Anaconda3\\envs\\mlenv\\python.exe -m pip install [options] [-e] <local project path> ...\n",
      "  C:\\Users\\dan.marks\\Anaconda3\\envs\\mlenv\\python.exe -m pip install [options] <archive url/path> ...\n",
      "\n",
      "no such option: -u\n"
     ]
    }
   ],
   "source": [
    "pip install -u pandas-datareader"
   ]
  },
  {
   "cell_type": "code",
   "execution_count": 39,
   "metadata": {},
   "outputs": [],
   "source": [
    "# import librarys\n",
    "import math\n",
    "import pandas_datareader as web\n",
    "import numpy as np\n",
    "import pandas as pd\n",
    "from sklearn.preprocessing import MinMaxScaler\n",
    "from keras.models import Sequential\n",
    "from keras.layers import Dense, LSTM\n",
    "import matplotlib.pyplot as plt\n",
    "plt.style.use('seaborn')"
   ]
  },
  {
   "cell_type": "code",
   "execution_count": 67,
   "metadata": {},
   "outputs": [
    {
     "data": {
      "text/html": [
       "<div>\n",
       "<style scoped>\n",
       "    .dataframe tbody tr th:only-of-type {\n",
       "        vertical-align: middle;\n",
       "    }\n",
       "\n",
       "    .dataframe tbody tr th {\n",
       "        vertical-align: top;\n",
       "    }\n",
       "\n",
       "    .dataframe thead th {\n",
       "        text-align: right;\n",
       "    }\n",
       "</style>\n",
       "<table border=\"1\" class=\"dataframe\">\n",
       "  <thead>\n",
       "    <tr style=\"text-align: right;\">\n",
       "      <th></th>\n",
       "      <th>High</th>\n",
       "      <th>Low</th>\n",
       "      <th>Open</th>\n",
       "      <th>Close</th>\n",
       "      <th>Volume</th>\n",
       "      <th>Adj Close</th>\n",
       "    </tr>\n",
       "    <tr>\n",
       "      <th>Date</th>\n",
       "      <th></th>\n",
       "      <th></th>\n",
       "      <th></th>\n",
       "      <th></th>\n",
       "      <th></th>\n",
       "      <th></th>\n",
       "    </tr>\n",
       "  </thead>\n",
       "  <tbody>\n",
       "    <tr>\n",
       "      <th>2019-01-02</th>\n",
       "      <td>1060.790039</td>\n",
       "      <td>1025.280029</td>\n",
       "      <td>1027.199951</td>\n",
       "      <td>1054.680054</td>\n",
       "      <td>1593400</td>\n",
       "      <td>1054.680054</td>\n",
       "    </tr>\n",
       "    <tr>\n",
       "      <th>2019-01-03</th>\n",
       "      <td>1066.260010</td>\n",
       "      <td>1022.369995</td>\n",
       "      <td>1050.670044</td>\n",
       "      <td>1025.469971</td>\n",
       "      <td>2098000</td>\n",
       "      <td>1025.469971</td>\n",
       "    </tr>\n",
       "    <tr>\n",
       "      <th>2019-01-04</th>\n",
       "      <td>1080.000000</td>\n",
       "      <td>1036.859985</td>\n",
       "      <td>1042.560059</td>\n",
       "      <td>1078.069946</td>\n",
       "      <td>2301100</td>\n",
       "      <td>1078.069946</td>\n",
       "    </tr>\n",
       "    <tr>\n",
       "      <th>2019-01-07</th>\n",
       "      <td>1082.699951</td>\n",
       "      <td>1062.640015</td>\n",
       "      <td>1080.969971</td>\n",
       "      <td>1075.920044</td>\n",
       "      <td>2372300</td>\n",
       "      <td>1075.920044</td>\n",
       "    </tr>\n",
       "    <tr>\n",
       "      <th>2019-01-08</th>\n",
       "      <td>1093.349976</td>\n",
       "      <td>1068.349976</td>\n",
       "      <td>1086.000000</td>\n",
       "      <td>1085.369995</td>\n",
       "      <td>1770700</td>\n",
       "      <td>1085.369995</td>\n",
       "    </tr>\n",
       "    <tr>\n",
       "      <th>...</th>\n",
       "      <td>...</td>\n",
       "      <td>...</td>\n",
       "      <td>...</td>\n",
       "      <td>...</td>\n",
       "      <td>...</td>\n",
       "      <td>...</td>\n",
       "    </tr>\n",
       "    <tr>\n",
       "      <th>2021-04-26</th>\n",
       "      <td>2324.530029</td>\n",
       "      <td>2297.320068</td>\n",
       "      <td>2304.520020</td>\n",
       "      <td>2309.929932</td>\n",
       "      <td>1601900</td>\n",
       "      <td>2309.929932</td>\n",
       "    </tr>\n",
       "    <tr>\n",
       "      <th>2021-04-27</th>\n",
       "      <td>2318.449951</td>\n",
       "      <td>2286.159912</td>\n",
       "      <td>2317.629883</td>\n",
       "      <td>2290.979980</td>\n",
       "      <td>2219300</td>\n",
       "      <td>2290.979980</td>\n",
       "    </tr>\n",
       "    <tr>\n",
       "      <th>2021-04-28</th>\n",
       "      <td>2431.379883</td>\n",
       "      <td>2353.219971</td>\n",
       "      <td>2392.500000</td>\n",
       "      <td>2359.040039</td>\n",
       "      <td>4055300</td>\n",
       "      <td>2359.040039</td>\n",
       "    </tr>\n",
       "    <tr>\n",
       "      <th>2021-04-29</th>\n",
       "      <td>2404.159912</td>\n",
       "      <td>2373.850098</td>\n",
       "      <td>2389.229980</td>\n",
       "      <td>2392.760010</td>\n",
       "      <td>2061700</td>\n",
       "      <td>2392.760010</td>\n",
       "    </tr>\n",
       "    <tr>\n",
       "      <th>2021-04-30</th>\n",
       "      <td>2381.850098</td>\n",
       "      <td>2346.560059</td>\n",
       "      <td>2368.020020</td>\n",
       "      <td>2353.500000</td>\n",
       "      <td>2242000</td>\n",
       "      <td>2353.500000</td>\n",
       "    </tr>\n",
       "  </tbody>\n",
       "</table>\n",
       "<p>587 rows × 6 columns</p>\n",
       "</div>"
      ],
      "text/plain": [
       "                   High          Low         Open        Close   Volume  \\\n",
       "Date                                                                      \n",
       "2019-01-02  1060.790039  1025.280029  1027.199951  1054.680054  1593400   \n",
       "2019-01-03  1066.260010  1022.369995  1050.670044  1025.469971  2098000   \n",
       "2019-01-04  1080.000000  1036.859985  1042.560059  1078.069946  2301100   \n",
       "2019-01-07  1082.699951  1062.640015  1080.969971  1075.920044  2372300   \n",
       "2019-01-08  1093.349976  1068.349976  1086.000000  1085.369995  1770700   \n",
       "...                 ...          ...          ...          ...      ...   \n",
       "2021-04-26  2324.530029  2297.320068  2304.520020  2309.929932  1601900   \n",
       "2021-04-27  2318.449951  2286.159912  2317.629883  2290.979980  2219300   \n",
       "2021-04-28  2431.379883  2353.219971  2392.500000  2359.040039  4055300   \n",
       "2021-04-29  2404.159912  2373.850098  2389.229980  2392.760010  2061700   \n",
       "2021-04-30  2381.850098  2346.560059  2368.020020  2353.500000  2242000   \n",
       "\n",
       "              Adj Close  \n",
       "Date                     \n",
       "2019-01-02  1054.680054  \n",
       "2019-01-03  1025.469971  \n",
       "2019-01-04  1078.069946  \n",
       "2019-01-07  1075.920044  \n",
       "2019-01-08  1085.369995  \n",
       "...                 ...  \n",
       "2021-04-26  2309.929932  \n",
       "2021-04-27  2290.979980  \n",
       "2021-04-28  2359.040039  \n",
       "2021-04-29  2392.760010  \n",
       "2021-04-30  2353.500000  \n",
       "\n",
       "[587 rows x 6 columns]"
      ]
     },
     "execution_count": 67,
     "metadata": {},
     "output_type": "execute_result"
    }
   ],
   "source": [
    "#get stock price\n",
    "df = web.DataReader('GOOGL', data_source='yahoo', start='2019-01-01', end='2021-05-01')\n",
    "\n",
    "df"
   ]
  },
  {
   "cell_type": "code",
   "execution_count": 68,
   "metadata": {},
   "outputs": [
    {
     "data": {
      "text/plain": [
       "(587, 6)"
      ]
     },
     "execution_count": 68,
     "metadata": {},
     "output_type": "execute_result"
    }
   ],
   "source": [
    "df.shape"
   ]
  },
  {
   "cell_type": "code",
   "execution_count": 69,
   "metadata": {},
   "outputs": [
    {
     "data": {
      "image/png": "[encoded data removed]",
      "text/plain": [
       "<Figure size 1152x576 with 1 Axes>"
      ]
     },
     "metadata": {},
     "output_type": "display_data"
    }
   ],
   "source": [
    "#plot\n",
    "plt.figure(figsize=(16,8))\n",
    "plt.title('Close Price History')\n",
    "plt.plot(df['Close'])\n",
    "plt.xlabel('Date', fontsize=18)\n",
    "plt.ylabel('Close Price USD($)', fontsize=18)\n",
    "plt.show()"
   ]
  },
  {
   "cell_type": "code",
   "execution_count": 70,
   "metadata": {},
   "outputs": [
    {
     "data": {
      "text/plain": [
       "470"
      ]
     },
     "execution_count": 70,
     "metadata": {},
     "output_type": "execute_result"
    }
   ],
   "source": [
    "#create df with just close price\n",
    "data = df.filter(['Close'])\n",
    "#Convert the dataframe to numpy array\n",
    "dataset = data.values\n",
    "#get number of rows to train model\n",
    "training_data_len = math.ceil( len(dataset) * .8 )\n",
    "\n",
    "training_data_len"
   ]
  },
  {
   "cell_type": "code",
   "execution_count": 71,
   "metadata": {},
   "outputs": [],
   "source": [
    "#Scale the data\n",
    "scaler = MinMaxScaler(feature_range=(0,1))\n",
    "scaled_data = scaler.fit_transform(dataset)\n",
    "\n",
    "#scaled_data "
   ]
  },
  {
   "cell_type": "code",
   "execution_count": 72,
   "metadata": {},
   "outputs": [
    {
     "name": "stdout",
     "output_type": "stream",
     "text": [
      "[array([0.02136349, 0.        , 0.03847024, 0.03689786, 0.0438093 ,\n",
      "       0.04108861, 0.03902609, 0.02852358, 0.019045  , 0.04464308,\n",
      "       0.0468372 , 0.05386569, 0.05984837, 0.03887985, 0.04310721,\n",
      "       0.04280733, 0.05561369, 0.03977943, 0.03261202, 0.05303924,\n",
      "       0.07344458, 0.06812748, 0.08480284, 0.09244566, 0.07125046,\n",
      "       0.05883175, 0.05624998, 0.05605981, 0.07468056, 0.07544854,\n",
      "       0.07586538, 0.06886617, 0.07389803, 0.06956826, 0.05758836,\n",
      "       0.0666209 , 0.06718398, 0.07060685, 0.07125046, 0.07392731,\n",
      "       0.08999557, 0.09357932, 0.10511301, 0.10200467, 0.09169964,\n",
      "       0.09105603, 0.11247799, 0.1256354 , 0.12695923, 0.12218334,\n",
      "       0.12055239, 0.11927248, 0.12944583, 0.14697692, 0.15407121,\n",
      "       0.1332417 , 0.12573048, 0.12021589, 0.11156378, 0.1073657 ])]\n",
      "[0.11074464058052791]\n",
      "\n"
     ]
    }
   ],
   "source": [
    "#Create training data set\n",
    "\n",
    "#create scaled training data set\n",
    "train_data = scaled_data[0:training_data_len , :]\n",
    "\n",
    "#split data into x_train and y_train\n",
    "x_train = []\n",
    "y_train = []\n",
    "\n",
    "for i in range(60, len(train_data)):\n",
    "  x_train.append(train_data[i-60:i, 0])\n",
    "  y_train.append(train_data[i, 0])\n",
    "  if i<= 60:\n",
    "    print(x_train)\n",
    "    print(y_train)\n",
    "    print()"
   ]
  },
  {
   "cell_type": "code",
   "execution_count": 73,
   "metadata": {},
   "outputs": [],
   "source": [
    "#convert x_train y_train to numpy arrays\n",
    "x_train, y_train = np.array(x_train), np.array(y_train)"
   ]
  },
  {
   "cell_type": "code",
   "execution_count": 74,
   "metadata": {},
   "outputs": [
    {
     "data": {
      "text/plain": [
       "(410, 60, 1)"
      ]
     },
     "execution_count": 74,
     "metadata": {},
     "output_type": "execute_result"
    }
   ],
   "source": [
    "#Reshape Data\n",
    "x_train = np.reshape(x_train, (x_train.shape[0], x_train.shape[1], 1))\n",
    "\n",
    "x_train.shape\n"
   ]
  },
  {
   "cell_type": "code",
   "execution_count": 48,
   "metadata": {},
   "outputs": [],
   "source": [
    "#Build LSTM model\n",
    "model = Sequential()\n",
    "model.add(LSTM(50, return_sequences=True, input_shape= (x_train.shape[1], 1)))\n",
    "model.add(LSTM(50, return_sequences=False))\n",
    "model.add(Dense(25))\n",
    "model.add(Dense(1))"
   ]
  },
  {
   "cell_type": "code",
   "execution_count": 75,
   "metadata": {},
   "outputs": [],
   "source": [
    "#Compile model\n",
    "model.compile(optimizer='adam', loss='mean_squared_error')"
   ]
  },
  {
   "cell_type": "code",
   "execution_count": 76,
   "metadata": {},
   "outputs": [
    {
     "name": "stdout",
     "output_type": "stream",
     "text": [
      "Epoch 1/100\n",
      "410/410 [==============================] - 13s 24ms/step - loss: 0.0026\n",
      "Epoch 2/100\n",
      "410/410 [==============================] - 10s 24ms/step - loss: 0.0012\n",
      "Epoch 3/100\n",
      "410/410 [==============================] - 9s 23ms/step - loss: 7.6806e-04\n",
      "Epoch 4/100\n",
      "410/410 [==============================] - 10s 25ms/step - loss: 8.5414e-04\n",
      "Epoch 5/100\n",
      "410/410 [==============================] - 10s 24ms/step - loss: 6.1685e-04\n",
      "Epoch 6/100\n",
      "410/410 [==============================] - 10s 24ms/step - loss: 6.0921e-04\n",
      "Epoch 7/100\n",
      "410/410 [==============================] - 10s 24ms/step - loss: 8.0908e-04\n",
      "Epoch 8/100\n",
      "410/410 [==============================] - 10s 24ms/step - loss: 5.5046e-04\n",
      "Epoch 9/100\n",
      "410/410 [==============================] - 9s 22ms/step - loss: 5.8811e-04\n",
      "Epoch 10/100\n",
      "410/410 [==============================] - 11s 26ms/step - loss: 7.0674e-04\n",
      "Epoch 11/100\n",
      "410/410 [==============================] - 10s 23ms/step - loss: 4.8887e-04\n",
      "Epoch 12/100\n",
      "410/410 [==============================] - 9s 22ms/step - loss: 4.5094e-04\n",
      "Epoch 13/100\n",
      "410/410 [==============================] - 9s 23ms/step - loss: 5.6263e-04\n",
      "Epoch 14/100\n",
      "410/410 [==============================] - 10s 24ms/step - loss: 6.5308e-04\n",
      "Epoch 15/100\n",
      "410/410 [==============================] - 9s 23ms/step - loss: 5.4863e-04\n",
      "Epoch 16/100\n",
      "410/410 [==============================] - 10s 24ms/step - loss: 5.9646e-04\n",
      "Epoch 17/100\n",
      "410/410 [==============================] - 10s 25ms/step - loss: 5.3831e-04\n",
      "Epoch 18/100\n",
      "410/410 [==============================] - 9s 22ms/step - loss: 5.4931e-04\n",
      "Epoch 19/100\n",
      "410/410 [==============================] - 9s 23ms/step - loss: 5.6888e-04\n",
      "Epoch 20/100\n",
      "410/410 [==============================] - 11s 27ms/step - loss: 6.1931e-04\n",
      "Epoch 21/100\n",
      "410/410 [==============================] - 9s 22ms/step - loss: 6.7395e-04\n",
      "Epoch 22/100\n",
      "410/410 [==============================] - 12s 29ms/step - loss: 7.4069e-04\n",
      "Epoch 23/100\n",
      "410/410 [==============================] - 10s 25ms/step - loss: 5.7677e-04\n",
      "Epoch 24/100\n",
      "410/410 [==============================] - 9s 23ms/step - loss: 4.9883e-04\n",
      "Epoch 25/100\n",
      "410/410 [==============================] - 11s 27ms/step - loss: 6.0636e-04\n",
      "Epoch 26/100\n",
      "410/410 [==============================] - 11s 26ms/step - loss: 4.8069e-04\n",
      "Epoch 27/100\n",
      "410/410 [==============================] - 12s 28ms/step - loss: 5.2288e-04\n",
      "Epoch 28/100\n",
      "410/410 [==============================] - 13s 32ms/step - loss: 5.5062e-04\n",
      "Epoch 29/100\n",
      "410/410 [==============================] - 11s 27ms/step - loss: 4.8932e-04 1s - lo\n",
      "Epoch 30/100\n",
      "410/410 [==============================] - 10s 23ms/step - loss: 5.7863e-04\n",
      "Epoch 31/100\n",
      "410/410 [==============================] - 10s 24ms/step - loss: 4.7134e-04\n",
      "Epoch 32/100\n",
      "410/410 [==============================] - 9s 22ms/step - loss: 5.1345e-04\n",
      "Epoch 33/100\n",
      "410/410 [==============================] - 9s 23ms/step - loss: 5.8849e-04\n",
      "Epoch 34/100\n",
      "410/410 [==============================] - 10s 24ms/step - loss: 5.6694e-04\n",
      "Epoch 35/100\n",
      "410/410 [==============================] - 9s 22ms/step - loss: 4.8599e-04\n",
      "Epoch 36/100\n",
      "410/410 [==============================] - 10s 24ms/step - loss: 5.0347e-04\n",
      "Epoch 37/100\n",
      "410/410 [==============================] - 10s 24ms/step - loss: 4.1808e-04\n",
      "Epoch 38/100\n",
      "410/410 [==============================] - 9s 22ms/step - loss: 4.4200e-04\n",
      "Epoch 39/100\n",
      "410/410 [==============================] - 11s 26ms/step - loss: 5.6080e-04\n",
      "Epoch 40/100\n",
      "410/410 [==============================] - 11s 26ms/step - loss: 4.7904e-04\n",
      "Epoch 41/100\n",
      "410/410 [==============================] - 11s 26ms/step - loss: 6.9542e-04\n",
      "Epoch 42/100\n",
      "410/410 [==============================] - 10s 24ms/step - loss: 4.7050e-04\n",
      "Epoch 43/100\n",
      "410/410 [==============================] - 10s 25ms/step - loss: 6.5888e-04\n",
      "Epoch 44/100\n",
      "410/410 [==============================] - 10s 24ms/step - loss: 4.5016e-04\n",
      "Epoch 45/100\n",
      "410/410 [==============================] - 10s 25ms/step - loss: 4.7996e-04\n",
      "Epoch 46/100\n",
      "410/410 [==============================] - 11s 26ms/step - loss: 4.6136e-04\n",
      "Epoch 47/100\n",
      "410/410 [==============================] - 10s 25ms/step - loss: 4.2177e-04\n",
      "Epoch 48/100\n",
      "410/410 [==============================] - 11s 27ms/step - loss: 4.9989e-04\n",
      "Epoch 49/100\n",
      "410/410 [==============================] - 14s 34ms/step - loss: 6.2715e-04\n",
      "Epoch 50/100\n",
      "410/410 [==============================] - 10s 24ms/step - loss: 5.1574e-04 0s - l\n",
      "Epoch 51/100\n",
      "410/410 [==============================] - 11s 26ms/step - loss: 4.6445e-04\n",
      "Epoch 52/100\n",
      "410/410 [==============================] - 10s 26ms/step - loss: 5.0804e-04\n",
      "Epoch 53/100\n",
      "410/410 [==============================] - 10s 23ms/step - loss: 4.6369e-04\n",
      "Epoch 54/100\n",
      "410/410 [==============================] - 10s 23ms/step - loss: 5.6142e-04 0s\n",
      "Epoch 55/100\n",
      "410/410 [==============================] - 10s 26ms/step - loss: 6.3933e-04\n",
      "Epoch 56/100\n",
      "410/410 [==============================] - 10s 25ms/step - loss: 6.2987e-04\n",
      "Epoch 57/100\n",
      "410/410 [==============================] - 13s 32ms/step - loss: 3.6482e-04\n",
      "Epoch 58/100\n",
      "410/410 [==============================] - 11s 28ms/step - loss: 5.7493e-04\n",
      "Epoch 59/100\n",
      "410/410 [==============================] - 10s 24ms/step - loss: 4.8119e-04\n",
      "Epoch 60/100\n",
      "410/410 [==============================] - 11s 27ms/step - loss: 6.0925e-04\n",
      "Epoch 61/100\n",
      "410/410 [==============================] - 10s 25ms/step - loss: 5.5237e-04\n",
      "Epoch 62/100\n",
      "410/410 [==============================] - 12s 30ms/step - loss: 4.8352e-04\n",
      "Epoch 63/100\n",
      "410/410 [==============================] - 10s 24ms/step - loss: 4.6820e-04\n",
      "Epoch 64/100\n",
      "410/410 [==============================] - 13s 31ms/step - loss: 4.3773e-04 0s - loss: 4.3709e\n",
      "Epoch 65/100\n",
      "410/410 [==============================] - 13s 31ms/step - loss: 5.4754e-04\n",
      "Epoch 66/100\n",
      "410/410 [==============================] - 11s 26ms/step - loss: 5.0670e-04\n",
      "Epoch 67/100\n",
      "410/410 [==============================] - 9s 22ms/step - loss: 4.0047e-04\n",
      "Epoch 68/100\n",
      "410/410 [==============================] - 10s 24ms/step - loss: 5.6091e-04\n",
      "Epoch 69/100\n",
      "410/410 [==============================] - 9s 23ms/step - loss: 6.9836e-04\n",
      "Epoch 70/100\n",
      "410/410 [==============================] - 9s 22ms/step - loss: 4.7722e-04\n",
      "Epoch 71/100\n",
      "410/410 [==============================] - 9s 23ms/step - loss: 4.9829e-04\n",
      "Epoch 72/100\n",
      "410/410 [==============================] - 10s 24ms/step - loss: 5.0970e-04\n",
      "Epoch 73/100\n",
      "410/410 [==============================] - 12s 28ms/step - loss: 5.5832e-04\n",
      "Epoch 74/100\n",
      "410/410 [==============================] - 11s 26ms/step - loss: 5.0016e-04\n",
      "Epoch 75/100\n",
      "410/410 [==============================] - 10s 25ms/step - loss: 4.8023e-04\n",
      "Epoch 76/100\n",
      "410/410 [==============================] - 11s 26ms/step - loss: 4.2206e-04\n",
      "Epoch 77/100\n",
      "410/410 [==============================] - 10s 25ms/step - loss: 4.5289e-04\n",
      "Epoch 78/100\n",
      "410/410 [==============================] - 10s 24ms/step - loss: 4.7796e-04\n",
      "Epoch 79/100\n",
      "410/410 [==============================] - 9s 22ms/step - loss: 4.5794e-04\n",
      "Epoch 80/100\n",
      "410/410 [==============================] - 10s 25ms/step - loss: 4.1470e-04\n",
      "Epoch 81/100\n",
      "410/410 [==============================] - 10s 25ms/step - loss: 6.1535e-04\n",
      "Epoch 82/100\n",
      "410/410 [==============================] - 10s 23ms/step - loss: 5.4921e-04\n",
      "Epoch 83/100\n",
      "410/410 [==============================] - 10s 23ms/step - loss: 4.4540e-04 0s - loss\n",
      "Epoch 84/100\n",
      "410/410 [==============================] - 10s 24ms/step - loss: 4.2708e-04\n",
      "Epoch 85/100\n",
      "410/410 [==============================] - 9s 23ms/step - loss: 3.7458e-04\n",
      "Epoch 86/100\n",
      "410/410 [==============================] - 10s 25ms/step - loss: 4.0174e-04\n",
      "Epoch 87/100\n",
      "410/410 [==============================] - 9s 22ms/step - loss: 4.1450e-04\n",
      "Epoch 88/100\n",
      "410/410 [==============================] - 10s 24ms/step - loss: 4.3342e-04\n",
      "Epoch 89/100\n",
      "410/410 [==============================] - 10s 26ms/step - loss: 4.0824e-04 0s - loss: 4.0\n",
      "Epoch 90/100\n",
      "410/410 [==============================] - 10s 26ms/step - loss: 4.7882e-04\n",
      "Epoch 91/100\n",
      "410/410 [==============================] - 13s 31ms/step - loss: 4.3574e-04\n",
      "Epoch 92/100\n"
     ]
    },
    {
     "name": "stdout",
     "output_type": "stream",
     "text": [
      "410/410 [==============================] - 14s 34ms/step - loss: 4.6117e-04\n",
      "Epoch 93/100\n",
      "410/410 [==============================] - 17s 43ms/step - loss: 4.0640e-04\n",
      "Epoch 94/100\n",
      "410/410 [==============================] - 17s 42ms/step - loss: 5.9076e-04\n",
      "Epoch 95/100\n",
      "410/410 [==============================] - 11s 27ms/step - loss: 4.7603e-04\n",
      "Epoch 96/100\n",
      "410/410 [==============================] - 10s 24ms/step - loss: 4.2391e-04\n",
      "Epoch 97/100\n",
      "410/410 [==============================] - 13s 31ms/step - loss: 5.0289e-04\n",
      "Epoch 98/100\n",
      "410/410 [==============================] - 12s 30ms/step - loss: 5.3075e-04\n",
      "Epoch 99/100\n",
      "410/410 [==============================] - 14s 33ms/step - loss: 4.7810e-04\n",
      "Epoch 100/100\n",
      "410/410 [==============================] - 11s 26ms/step - loss: 4.2025e-04\n"
     ]
    },
    {
     "data": {
      "text/plain": [
       "<tensorflow.python.keras.callbacks.History at 0x21712daacc8>"
      ]
     },
     "execution_count": 76,
     "metadata": {},
     "output_type": "execute_result"
    }
   ],
   "source": [
    "#Train the model\n",
    "model.fit(x_train, y_train, batch_size=1, epochs=100)"
   ]
  },
  {
   "cell_type": "code",
   "execution_count": 77,
   "metadata": {},
   "outputs": [],
   "source": [
    "#Create testing dataset\n",
    "test_data = scaled_data[training_data_len - 60:, :]\n",
    "#Create x_test and y_test\n",
    "x_test = []\n",
    "y_test = dataset[training_data_len:, :]\n",
    "for i in range(60, len(test_data)):\n",
    "  x_test.append(test_data[i-60:i, 0])"
   ]
  },
  {
   "cell_type": "code",
   "execution_count": 78,
   "metadata": {},
   "outputs": [],
   "source": [
    "#Convert data to a numpy array\n",
    "x_test = np.array(x_test)"
   ]
  },
  {
   "cell_type": "code",
   "execution_count": 79,
   "metadata": {},
   "outputs": [],
   "source": [
    "#Reshape the data\n",
    "x_test = np.reshape(x_test, (x_test.shape[0], x_test.shape[1], 1))"
   ]
  },
  {
   "cell_type": "code",
   "execution_count": 80,
   "metadata": {},
   "outputs": [],
   "source": [
    "#Get predicted prices valuse\n",
    "predictions = model.predict(x_test)\n",
    "predictions = scaler.inverse_transform(predictions)\n"
   ]
  },
  {
   "cell_type": "code",
   "execution_count": 81,
   "metadata": {},
   "outputs": [
    {
     "data": {
      "text/plain": [
       "2.9252147185496793"
      ]
     },
     "execution_count": 81,
     "metadata": {},
     "output_type": "execute_result"
    }
   ],
   "source": [
    "#Get (RMSE)\n",
    "rmse = np.sqrt( np.mean( predictions - y_test )**2)\n",
    "rmse"
   ]
  },
  {
   "cell_type": "code",
   "execution_count": 84,
   "metadata": {},
   "outputs": [
    {
     "name": "stderr",
     "output_type": "stream",
     "text": [
      "C:\\Users\\dan.marks\\Anaconda3\\envs\\mlenv\\lib\\site-packages\\ipykernel_launcher.py:4: SettingWithCopyWarning: \n",
      "A value is trying to be set on a copy of a slice from a DataFrame.\n",
      "Try using .loc[row_indexer,col_indexer] = value instead\n",
      "\n",
      "See the caveats in the documentation: https://pandas.pydata.org/pandas-docs/stable/user_guide/indexing.html#returning-a-view-versus-a-copy\n",
      "  after removing the cwd from sys.path.\n"
     ]
    },
    {
     "data": {
      "image/png": "[encoded data removed]",
      "text/plain": [
       "<Figure size 1152x576 with 1 Axes>"
      ]
     },
     "metadata": {},
     "output_type": "display_data"
    }
   ],
   "source": [
    "#Plot the data\n",
    "train = data[:training_data_len]\n",
    "valid = data[training_data_len:]\n",
    "valid['Predictions'] = predictions\n",
    "\n",
    " #Visualization\n",
    "plt.figure(figsize=(16,8))\n",
    "plt.title('Test Model')\n",
    "plt.xlabel('Date', fontsize=18)\n",
    "plt.ylabel('Close Price USD($)', fontsize=18)\n",
    "plt.plot(train['Close'])\n",
    "plt.plot(valid[['Close', 'Predictions']])\n",
    "plt.legend(['Train', 'Actual', 'Predictions'], loc='lower right')\n",
    "plt.show()"
   ]
  },
  {
   "cell_type": "code",
   "execution_count": 89,
   "metadata": {},
   "outputs": [
    {
     "data": {
      "text/html": [
       "<div>\n",
       "<style scoped>\n",
       "    .dataframe tbody tr th:only-of-type {\n",
       "        vertical-align: middle;\n",
       "    }\n",
       "\n",
       "    .dataframe tbody tr th {\n",
       "        vertical-align: top;\n",
       "    }\n",
       "\n",
       "    .dataframe thead th {\n",
       "        text-align: right;\n",
       "    }\n",
       "</style>\n",
       "<table border=\"1\" class=\"dataframe\">\n",
       "  <thead>\n",
       "    <tr style=\"text-align: right;\">\n",
       "      <th></th>\n",
       "      <th>Close</th>\n",
       "      <th>Predictions</th>\n",
       "    </tr>\n",
       "    <tr>\n",
       "      <th>Date</th>\n",
       "      <th></th>\n",
       "      <th></th>\n",
       "    </tr>\n",
       "  </thead>\n",
       "  <tbody>\n",
       "    <tr>\n",
       "      <th>2021-02-05</th>\n",
       "      <td>2088.830078</td>\n",
       "      <td>2046.776611</td>\n",
       "    </tr>\n",
       "    <tr>\n",
       "      <th>2021-02-08</th>\n",
       "      <td>2084.520020</td>\n",
       "      <td>2080.585693</td>\n",
       "    </tr>\n",
       "    <tr>\n",
       "      <th>2021-02-09</th>\n",
       "      <td>2075.389893</td>\n",
       "      <td>2075.310791</td>\n",
       "    </tr>\n",
       "    <tr>\n",
       "      <th>2021-02-10</th>\n",
       "      <td>2086.479980</td>\n",
       "      <td>2068.157715</td>\n",
       "    </tr>\n",
       "    <tr>\n",
       "      <th>2021-02-11</th>\n",
       "      <td>2088.750000</td>\n",
       "      <td>2085.728027</td>\n",
       "    </tr>\n",
       "    <tr>\n",
       "      <th>2021-02-12</th>\n",
       "      <td>2095.030029</td>\n",
       "      <td>2086.350342</td>\n",
       "    </tr>\n",
       "    <tr>\n",
       "      <th>2021-02-16</th>\n",
       "      <td>2110.699951</td>\n",
       "      <td>2091.070312</td>\n",
       "    </tr>\n",
       "    <tr>\n",
       "      <th>2021-02-17</th>\n",
       "      <td>2118.620117</td>\n",
       "      <td>2106.247070</td>\n",
       "    </tr>\n",
       "    <tr>\n",
       "      <th>2021-02-18</th>\n",
       "      <td>2105.810059</td>\n",
       "      <td>2110.008789</td>\n",
       "    </tr>\n",
       "    <tr>\n",
       "      <th>2021-02-19</th>\n",
       "      <td>2088.810059</td>\n",
       "      <td>2092.727539</td>\n",
       "    </tr>\n",
       "    <tr>\n",
       "      <th>2021-02-22</th>\n",
       "      <td>2054.260010</td>\n",
       "      <td>2077.828125</td>\n",
       "    </tr>\n",
       "    <tr>\n",
       "      <th>2021-02-23</th>\n",
       "      <td>2060.120117</td>\n",
       "      <td>2046.271118</td>\n",
       "    </tr>\n",
       "  </tbody>\n",
       "</table>\n",
       "</div>"
      ],
      "text/plain": [
       "                  Close  Predictions\n",
       "Date                                \n",
       "2021-02-05  2088.830078  2046.776611\n",
       "2021-02-08  2084.520020  2080.585693\n",
       "2021-02-09  2075.389893  2075.310791\n",
       "2021-02-10  2086.479980  2068.157715\n",
       "2021-02-11  2088.750000  2085.728027\n",
       "2021-02-12  2095.030029  2086.350342\n",
       "2021-02-16  2110.699951  2091.070312\n",
       "2021-02-17  2118.620117  2106.247070\n",
       "2021-02-18  2105.810059  2110.008789\n",
       "2021-02-19  2088.810059  2092.727539\n",
       "2021-02-22  2054.260010  2077.828125\n",
       "2021-02-23  2060.120117  2046.271118"
      ]
     },
     "execution_count": 89,
     "metadata": {},
     "output_type": "execute_result"
    }
   ],
   "source": [
    "#see valid predicted prices\n",
    "valid[58:70]"
   ]
  },
  {
   "cell_type": "code",
   "execution_count": 96,
   "metadata": {},
   "outputs": [
    {
     "name": "stdout",
     "output_type": "stream",
     "text": [
      "[[2234.026]]\n"
     ]
    }
   ],
   "source": [
    "#get quote\n",
    "google_quote = web.DataReader('Googl', data_source='yahoo', start='2019-01-01', end='2021-04-21')\n",
    "\n",
    "new_df= apple_quote.filter(['Close'])\n",
    "#Check last 60 days\n",
    "last_60_days = new_df[-60:].values\n",
    "#Scale the data\n",
    "last_60_days_scaled = scaler.transform(last_60_days)\n",
    "#Create an empty list\n",
    "X_test = []\n",
    "#Append 60 days to X_test\n",
    "X_test.append(last_60_days_scaled)\n",
    "#Convert X_test data set to numpy array\n",
    "X_test = np.array(X_test)\n",
    "#Reshape\n",
    "X_test = np.reshape(X_test, (X_test.shape[0], X_test.shape[1], 1))\n",
    "#Get predicted scaled price\n",
    "pred_price = model.predict(X_test)\n",
    "#undo scaling\n",
    "pred_price = scaler.inverse_transform(pred_price)\n",
    "print(pred_price)"
   ]
  },
  {
   "cell_type": "code",
   "execution_count": 93,
   "metadata": {},
   "outputs": [
    {
     "name": "stdout",
     "output_type": "stream",
     "text": [
      "Date\n",
      "2021-04-22    2252.52002\n",
      "Name: Close, dtype: float64\n"
     ]
    }
   ],
   "source": [
    "google_quote2 = web.DataReader('GOOGL', data_source='yahoo', start='2021-04-22', end='2021-04-22')\n",
    "\n",
    "print(google_quote2['Close'])"
   ]
  },
  {
   "cell_type": "code",
   "execution_count": 25,
   "metadata": {},
   "outputs": [
    {
     "ename": "AttributeError",
     "evalue": "'Sequential' object has no attribute 'score'",
     "output_type": "error",
     "traceback": [
      "\u001b[1;31m---------------------------------------------------------------------------\u001b[0m",
      "\u001b[1;31mAttributeError\u001b[0m                            Traceback (most recent call last)",
      "\u001b[1;32m<ipython-input-25-fdd4d0452e72>\u001b[0m in \u001b[0;36m<module>\u001b[1;34m\u001b[0m\n\u001b[1;32m----> 1\u001b[1;33m \u001b[0mmodel\u001b[0m\u001b[1;33m.\u001b[0m\u001b[0mscore\u001b[0m\u001b[1;33m(\u001b[0m\u001b[0mx_test\u001b[0m\u001b[1;33m,\u001b[0m \u001b[0my_test\u001b[0m\u001b[1;33m)\u001b[0m\u001b[1;33m\u001b[0m\u001b[1;33m\u001b[0m\u001b[0m\n\u001b[0m",
      "\u001b[1;31mAttributeError\u001b[0m: 'Sequential' object has no attribute 'score'"
     ]
    }
   ],
   "source": []
  },
  {
   "cell_type": "code",
   "execution_count": null,
   "metadata": {},
   "outputs": [],
   "source": []
  },
  {
   "cell_type": "code",
   "execution_count": null,
   "metadata": {},
   "outputs": [],
   "source": []
  },
  {
   "cell_type": "code",
   "execution_count": null,
   "metadata": {},
   "outputs": [],
   "source": []
  }
 ],
 "metadata": {
  "kernelspec": {
   "display_name": "mlenv",
   "language": "python",
   "name": "mlenv"
  },
  "language_info": {
   "codemirror_mode": {
    "name": "ipython",
    "version": 3
   },
   "file_extension": ".py",
   "mimetype": "text/x-python",
   "name": "python",
   "nbconvert_exporter": "python",
   "pygments_lexer": "ipython3",
   "version": "3.7.9"
  }
 },
 "nbformat": 4,
 "nbformat_minor": 4
}
