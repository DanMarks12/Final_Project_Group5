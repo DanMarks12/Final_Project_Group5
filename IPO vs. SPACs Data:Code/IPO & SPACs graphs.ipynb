{
 "cells": [
  {
   "cell_type": "code",
   "execution_count": 5,
   "metadata": {},
   "outputs": [],
   "source": [
    "import numpy as np\n",
    "import pandas as pd\n",
    "import matplotlib.pyplot as plt"
   ]
  },
  {
   "cell_type": "code",
   "execution_count": 6,
   "metadata": {
    "scrolled": true
   },
   "outputs": [
    {
     "data": {
      "text/html": [
       "<div>\n",
       "<style scoped>\n",
       "    .dataframe tbody tr th:only-of-type {\n",
       "        vertical-align: middle;\n",
       "    }\n",
       "\n",
       "    .dataframe tbody tr th {\n",
       "        vertical-align: top;\n",
       "    }\n",
       "\n",
       "    .dataframe thead th {\n",
       "        text-align: right;\n",
       "    }\n",
       "</style>\n",
       "<table border=\"1\" class=\"dataframe\">\n",
       "  <thead>\n",
       "    <tr style=\"text-align: right;\">\n",
       "      <th></th>\n",
       "      <th>Ticker</th>\n",
       "      <th>Dates</th>\n",
       "      <th>Market Cap</th>\n",
       "    </tr>\n",
       "  </thead>\n",
       "  <tbody>\n",
       "    <tr>\n",
       "      <th>0</th>\n",
       "      <td>ZM US Equity</td>\n",
       "      <td>5/7/21</td>\n",
       "      <td>86936.4500</td>\n",
       "    </tr>\n",
       "    <tr>\n",
       "      <th>1</th>\n",
       "      <td>ZM US Equity</td>\n",
       "      <td>5/6/21</td>\n",
       "      <td>86291.5800</td>\n",
       "    </tr>\n",
       "    <tr>\n",
       "      <th>2</th>\n",
       "      <td>ZM US Equity</td>\n",
       "      <td>5/5/21</td>\n",
       "      <td>87406.3600</td>\n",
       "    </tr>\n",
       "    <tr>\n",
       "      <th>3</th>\n",
       "      <td>ZM US Equity</td>\n",
       "      <td>5/4/21</td>\n",
       "      <td>89538.7300</td>\n",
       "    </tr>\n",
       "    <tr>\n",
       "      <th>4</th>\n",
       "      <td>ZM US Equity</td>\n",
       "      <td>5/3/21</td>\n",
       "      <td>92202.7100</td>\n",
       "    </tr>\n",
       "    <tr>\n",
       "      <th>...</th>\n",
       "      <td>...</td>\n",
       "      <td>...</td>\n",
       "      <td>...</td>\n",
       "    </tr>\n",
       "    <tr>\n",
       "      <th>430</th>\n",
       "      <td>PTON US Equity</td>\n",
       "      <td>1/8/21</td>\n",
       "      <td>46477.5517</td>\n",
       "    </tr>\n",
       "    <tr>\n",
       "      <th>431</th>\n",
       "      <td>PTON US Equity</td>\n",
       "      <td>1/7/21</td>\n",
       "      <td>45049.9934</td>\n",
       "    </tr>\n",
       "    <tr>\n",
       "      <th>432</th>\n",
       "      <td>PTON US Equity</td>\n",
       "      <td>1/6/21</td>\n",
       "      <td>42054.4614</td>\n",
       "    </tr>\n",
       "    <tr>\n",
       "      <th>433</th>\n",
       "      <td>PTON US Equity</td>\n",
       "      <td>1/5/21</td>\n",
       "      <td>43449.8411</td>\n",
       "    </tr>\n",
       "    <tr>\n",
       "      <th>434</th>\n",
       "      <td>PTON US Equity</td>\n",
       "      <td>1/4/21</td>\n",
       "      <td>42698.0328</td>\n",
       "    </tr>\n",
       "  </tbody>\n",
       "</table>\n",
       "<p>435 rows × 3 columns</p>\n",
       "</div>"
      ],
      "text/plain": [
       "             Ticker   Dates  Market Cap\n",
       "0      ZM US Equity  5/7/21  86936.4500\n",
       "1      ZM US Equity  5/6/21  86291.5800\n",
       "2      ZM US Equity  5/5/21  87406.3600\n",
       "3      ZM US Equity  5/4/21  89538.7300\n",
       "4      ZM US Equity  5/3/21  92202.7100\n",
       "..              ...     ...         ...\n",
       "430  PTON US Equity  1/8/21  46477.5517\n",
       "431  PTON US Equity  1/7/21  45049.9934\n",
       "432  PTON US Equity  1/6/21  42054.4614\n",
       "433  PTON US Equity  1/5/21  43449.8411\n",
       "434  PTON US Equity  1/4/21  42698.0328\n",
       "\n",
       "[435 rows x 3 columns]"
      ]
     },
     "execution_count": 6,
     "metadata": {},
     "output_type": "execute_result"
    }
   ],
   "source": [
    "ipo_df = pd.read_csv(\"consolidated IPOs data.csv\")\n",
    "ipo_df"
   ]
  },
  {
   "cell_type": "code",
   "execution_count": 7,
   "metadata": {},
   "outputs": [
    {
     "data": {
      "text/html": [
       "<div>\n",
       "<style scoped>\n",
       "    .dataframe tbody tr th:only-of-type {\n",
       "        vertical-align: middle;\n",
       "    }\n",
       "\n",
       "    .dataframe tbody tr th {\n",
       "        vertical-align: top;\n",
       "    }\n",
       "\n",
       "    .dataframe thead th {\n",
       "        text-align: right;\n",
       "    }\n",
       "</style>\n",
       "<table border=\"1\" class=\"dataframe\">\n",
       "  <thead>\n",
       "    <tr style=\"text-align: right;\">\n",
       "      <th></th>\n",
       "      <th>Ticker</th>\n",
       "      <th>Dates</th>\n",
       "      <th>Market Cap</th>\n",
       "    </tr>\n",
       "  </thead>\n",
       "  <tbody>\n",
       "    <tr>\n",
       "      <th>0</th>\n",
       "      <td>RTP US Equity</td>\n",
       "      <td>5/7/21</td>\n",
       "      <td>683.1000</td>\n",
       "    </tr>\n",
       "    <tr>\n",
       "      <th>1</th>\n",
       "      <td>RTP US Equity</td>\n",
       "      <td>5/6/21</td>\n",
       "      <td>683.1000</td>\n",
       "    </tr>\n",
       "    <tr>\n",
       "      <th>2</th>\n",
       "      <td>RTP US Equity</td>\n",
       "      <td>5/5/21</td>\n",
       "      <td>683.7900</td>\n",
       "    </tr>\n",
       "    <tr>\n",
       "      <th>3</th>\n",
       "      <td>RTP US Equity</td>\n",
       "      <td>5/4/21</td>\n",
       "      <td>683.7900</td>\n",
       "    </tr>\n",
       "    <tr>\n",
       "      <th>4</th>\n",
       "      <td>RTP US Equity</td>\n",
       "      <td>5/3/21</td>\n",
       "      <td>686.5500</td>\n",
       "    </tr>\n",
       "    <tr>\n",
       "      <th>...</th>\n",
       "      <td>...</td>\n",
       "      <td>...</td>\n",
       "      <td>...</td>\n",
       "    </tr>\n",
       "    <tr>\n",
       "      <th>429</th>\n",
       "      <td>PACE US Equity</td>\n",
       "      <td>1/8/21</td>\n",
       "      <td>645.7500</td>\n",
       "    </tr>\n",
       "    <tr>\n",
       "      <th>430</th>\n",
       "      <td>PACE US Equity</td>\n",
       "      <td>1/7/21</td>\n",
       "      <td>637.8750</td>\n",
       "    </tr>\n",
       "    <tr>\n",
       "      <th>431</th>\n",
       "      <td>PACE US Equity</td>\n",
       "      <td>1/6/21</td>\n",
       "      <td>642.9375</td>\n",
       "    </tr>\n",
       "    <tr>\n",
       "      <th>432</th>\n",
       "      <td>PACE US Equity</td>\n",
       "      <td>1/5/21</td>\n",
       "      <td>643.5000</td>\n",
       "    </tr>\n",
       "    <tr>\n",
       "      <th>433</th>\n",
       "      <td>PACE US Equity</td>\n",
       "      <td>1/4/21</td>\n",
       "      <td>627.1875</td>\n",
       "    </tr>\n",
       "  </tbody>\n",
       "</table>\n",
       "<p>434 rows × 3 columns</p>\n",
       "</div>"
      ],
      "text/plain": [
       "             Ticker   Dates  Market Cap\n",
       "0     RTP US Equity  5/7/21    683.1000\n",
       "1     RTP US Equity  5/6/21    683.1000\n",
       "2     RTP US Equity  5/5/21    683.7900\n",
       "3     RTP US Equity  5/4/21    683.7900\n",
       "4     RTP US Equity  5/3/21    686.5500\n",
       "..              ...     ...         ...\n",
       "429  PACE US Equity  1/8/21    645.7500\n",
       "430  PACE US Equity  1/7/21    637.8750\n",
       "431  PACE US Equity  1/6/21    642.9375\n",
       "432  PACE US Equity  1/5/21    643.5000\n",
       "433  PACE US Equity  1/4/21    627.1875\n",
       "\n",
       "[434 rows x 3 columns]"
      ]
     },
     "execution_count": 7,
     "metadata": {},
     "output_type": "execute_result"
    }
   ],
   "source": [
    "spacs_df = pd.read_csv(\"consolidated SPACs data.csv\")\n",
    "spacs_df"
   ]
  },
  {
   "cell_type": "code",
   "execution_count": 8,
   "metadata": {},
   "outputs": [
    {
     "data": {
      "text/html": [
       "<div>\n",
       "<style scoped>\n",
       "    .dataframe tbody tr th:only-of-type {\n",
       "        vertical-align: middle;\n",
       "    }\n",
       "\n",
       "    .dataframe tbody tr th {\n",
       "        vertical-align: top;\n",
       "    }\n",
       "\n",
       "    .dataframe thead th {\n",
       "        text-align: right;\n",
       "    }\n",
       "</style>\n",
       "<table border=\"1\" class=\"dataframe\">\n",
       "  <thead>\n",
       "    <tr style=\"text-align: right;\">\n",
       "      <th></th>\n",
       "      <th>Ticker</th>\n",
       "      <th>Dates</th>\n",
       "      <th>Market Cap</th>\n",
       "    </tr>\n",
       "  </thead>\n",
       "  <tbody>\n",
       "    <tr>\n",
       "      <th>0</th>\n",
       "      <td>ZM US Equity</td>\n",
       "      <td>5/7/21</td>\n",
       "      <td>86936.4500</td>\n",
       "    </tr>\n",
       "    <tr>\n",
       "      <th>1</th>\n",
       "      <td>ZM US Equity</td>\n",
       "      <td>5/6/21</td>\n",
       "      <td>86291.5800</td>\n",
       "    </tr>\n",
       "    <tr>\n",
       "      <th>2</th>\n",
       "      <td>ZM US Equity</td>\n",
       "      <td>5/5/21</td>\n",
       "      <td>87406.3600</td>\n",
       "    </tr>\n",
       "    <tr>\n",
       "      <th>3</th>\n",
       "      <td>ZM US Equity</td>\n",
       "      <td>5/4/21</td>\n",
       "      <td>89538.7300</td>\n",
       "    </tr>\n",
       "    <tr>\n",
       "      <th>4</th>\n",
       "      <td>ZM US Equity</td>\n",
       "      <td>5/3/21</td>\n",
       "      <td>92202.7100</td>\n",
       "    </tr>\n",
       "    <tr>\n",
       "      <th>...</th>\n",
       "      <td>...</td>\n",
       "      <td>...</td>\n",
       "      <td>...</td>\n",
       "    </tr>\n",
       "    <tr>\n",
       "      <th>430</th>\n",
       "      <td>PTON US Equity</td>\n",
       "      <td>1/8/21</td>\n",
       "      <td>46477.5517</td>\n",
       "    </tr>\n",
       "    <tr>\n",
       "      <th>431</th>\n",
       "      <td>PTON US Equity</td>\n",
       "      <td>1/7/21</td>\n",
       "      <td>45049.9934</td>\n",
       "    </tr>\n",
       "    <tr>\n",
       "      <th>432</th>\n",
       "      <td>PTON US Equity</td>\n",
       "      <td>1/6/21</td>\n",
       "      <td>42054.4614</td>\n",
       "    </tr>\n",
       "    <tr>\n",
       "      <th>433</th>\n",
       "      <td>PTON US Equity</td>\n",
       "      <td>1/5/21</td>\n",
       "      <td>43449.8411</td>\n",
       "    </tr>\n",
       "    <tr>\n",
       "      <th>434</th>\n",
       "      <td>PTON US Equity</td>\n",
       "      <td>1/4/21</td>\n",
       "      <td>42698.0328</td>\n",
       "    </tr>\n",
       "  </tbody>\n",
       "</table>\n",
       "<p>435 rows × 3 columns</p>\n",
       "</div>"
      ],
      "text/plain": [
       "             Ticker   Dates  Market Cap\n",
       "0      ZM US Equity  5/7/21  86936.4500\n",
       "1      ZM US Equity  5/6/21  86291.5800\n",
       "2      ZM US Equity  5/5/21  87406.3600\n",
       "3      ZM US Equity  5/4/21  89538.7300\n",
       "4      ZM US Equity  5/3/21  92202.7100\n",
       "..              ...     ...         ...\n",
       "430  PTON US Equity  1/8/21  46477.5517\n",
       "431  PTON US Equity  1/7/21  45049.9934\n",
       "432  PTON US Equity  1/6/21  42054.4614\n",
       "433  PTON US Equity  1/5/21  43449.8411\n",
       "434  PTON US Equity  1/4/21  42698.0328\n",
       "\n",
       "[435 rows x 3 columns]"
      ]
     },
     "execution_count": 8,
     "metadata": {},
     "output_type": "execute_result"
    }
   ],
   "source": [
    "ipo_df = ipo_df.dropna()\n",
    "ipo_df"
   ]
  },
  {
   "cell_type": "code",
   "execution_count": 9,
   "metadata": {},
   "outputs": [
    {
     "data": {
      "text/html": [
       "<div>\n",
       "<style scoped>\n",
       "    .dataframe tbody tr th:only-of-type {\n",
       "        vertical-align: middle;\n",
       "    }\n",
       "\n",
       "    .dataframe tbody tr th {\n",
       "        vertical-align: top;\n",
       "    }\n",
       "\n",
       "    .dataframe thead th {\n",
       "        text-align: right;\n",
       "    }\n",
       "</style>\n",
       "<table border=\"1\" class=\"dataframe\">\n",
       "  <thead>\n",
       "    <tr style=\"text-align: right;\">\n",
       "      <th></th>\n",
       "      <th>Ticker</th>\n",
       "      <th>Dates</th>\n",
       "      <th>Market Cap</th>\n",
       "    </tr>\n",
       "  </thead>\n",
       "  <tbody>\n",
       "    <tr>\n",
       "      <th>0</th>\n",
       "      <td>RTP US Equity</td>\n",
       "      <td>5/7/21</td>\n",
       "      <td>683.1000</td>\n",
       "    </tr>\n",
       "    <tr>\n",
       "      <th>1</th>\n",
       "      <td>RTP US Equity</td>\n",
       "      <td>5/6/21</td>\n",
       "      <td>683.1000</td>\n",
       "    </tr>\n",
       "    <tr>\n",
       "      <th>2</th>\n",
       "      <td>RTP US Equity</td>\n",
       "      <td>5/5/21</td>\n",
       "      <td>683.7900</td>\n",
       "    </tr>\n",
       "    <tr>\n",
       "      <th>3</th>\n",
       "      <td>RTP US Equity</td>\n",
       "      <td>5/4/21</td>\n",
       "      <td>683.7900</td>\n",
       "    </tr>\n",
       "    <tr>\n",
       "      <th>4</th>\n",
       "      <td>RTP US Equity</td>\n",
       "      <td>5/3/21</td>\n",
       "      <td>686.5500</td>\n",
       "    </tr>\n",
       "    <tr>\n",
       "      <th>...</th>\n",
       "      <td>...</td>\n",
       "      <td>...</td>\n",
       "      <td>...</td>\n",
       "    </tr>\n",
       "    <tr>\n",
       "      <th>429</th>\n",
       "      <td>PACE US Equity</td>\n",
       "      <td>1/8/21</td>\n",
       "      <td>645.7500</td>\n",
       "    </tr>\n",
       "    <tr>\n",
       "      <th>430</th>\n",
       "      <td>PACE US Equity</td>\n",
       "      <td>1/7/21</td>\n",
       "      <td>637.8750</td>\n",
       "    </tr>\n",
       "    <tr>\n",
       "      <th>431</th>\n",
       "      <td>PACE US Equity</td>\n",
       "      <td>1/6/21</td>\n",
       "      <td>642.9375</td>\n",
       "    </tr>\n",
       "    <tr>\n",
       "      <th>432</th>\n",
       "      <td>PACE US Equity</td>\n",
       "      <td>1/5/21</td>\n",
       "      <td>643.5000</td>\n",
       "    </tr>\n",
       "    <tr>\n",
       "      <th>433</th>\n",
       "      <td>PACE US Equity</td>\n",
       "      <td>1/4/21</td>\n",
       "      <td>627.1875</td>\n",
       "    </tr>\n",
       "  </tbody>\n",
       "</table>\n",
       "<p>416 rows × 3 columns</p>\n",
       "</div>"
      ],
      "text/plain": [
       "             Ticker   Dates  Market Cap\n",
       "0     RTP US Equity  5/7/21    683.1000\n",
       "1     RTP US Equity  5/6/21    683.1000\n",
       "2     RTP US Equity  5/5/21    683.7900\n",
       "3     RTP US Equity  5/4/21    683.7900\n",
       "4     RTP US Equity  5/3/21    686.5500\n",
       "..              ...     ...         ...\n",
       "429  PACE US Equity  1/8/21    645.7500\n",
       "430  PACE US Equity  1/7/21    637.8750\n",
       "431  PACE US Equity  1/6/21    642.9375\n",
       "432  PACE US Equity  1/5/21    643.5000\n",
       "433  PACE US Equity  1/4/21    627.1875\n",
       "\n",
       "[416 rows x 3 columns]"
      ]
     },
     "execution_count": 9,
     "metadata": {},
     "output_type": "execute_result"
    }
   ],
   "source": [
    "spacs_df = spacs_df.dropna()\n",
    "spacs_df"
   ]
  },
  {
   "cell_type": "code",
   "execution_count": 11,
   "metadata": {},
   "outputs": [
    {
     "ename": "NameError",
     "evalue": "name 'ipo' is not defined",
     "output_type": "error",
     "traceback": [
      "\u001b[0;31m---------------------------------------------------------------------------\u001b[0m",
      "\u001b[0;31mNameError\u001b[0m                                 Traceback (most recent call last)",
      "\u001b[0;32m<ipython-input-11-2caf488b0889>\u001b[0m in \u001b[0;36m<module>\u001b[0;34m\u001b[0m\n\u001b[0;32m----> 1\u001b[0;31m \u001b[0mdata\u001b[0m \u001b[0;34m=\u001b[0m \u001b[0mipo\u001b[0m\u001b[0;34m.\u001b[0m\u001b[0mgenfromtxt\u001b[0m\u001b[0;34m(\u001b[0m\u001b[0;34m\"consolidated IPOs data.csv\"\u001b[0m\u001b[0;34m,\u001b[0m \u001b[0mdelimiter\u001b[0m\u001b[0;34m=\u001b[0m\u001b[0;34m\",\"\u001b[0m\u001b[0;34m,\u001b[0m \u001b[0mnames\u001b[0m\u001b[0;34m=\u001b[0m\u001b[0;34m[\u001b[0m\u001b[0;34m\"x\"\u001b[0m\u001b[0;34m,\u001b[0m \u001b[0;34m\"y\"\u001b[0m\u001b[0;34m]\u001b[0m\u001b[0;34m)\u001b[0m\u001b[0;34m\u001b[0m\u001b[0;34m\u001b[0m\u001b[0m\n\u001b[0m\u001b[1;32m      2\u001b[0m \u001b[0mplt\u001b[0m\u001b[0;34m.\u001b[0m\u001b[0mplot\u001b[0m\u001b[0;34m(\u001b[0m\u001b[0mdata\u001b[0m\u001b[0;34m[\u001b[0m\u001b[0;34m'x'\u001b[0m\u001b[0;34m]\u001b[0m\u001b[0;34m,\u001b[0m \u001b[0mdata\u001b[0m\u001b[0;34m[\u001b[0m\u001b[0;34m'y'\u001b[0m\u001b[0;34m]\u001b[0m\u001b[0;34m)\u001b[0m\u001b[0;34m\u001b[0m\u001b[0;34m\u001b[0m\u001b[0m\n",
      "\u001b[0;31mNameError\u001b[0m: name 'ipo' is not defined"
     ]
    }
   ],
   "source": [
    "data = ipo_df.genfromtxt(\"consolidated IPOs data.csv\", delimiter=\",\", names=[\"x\", \"y\"])\n",
    "plt.plot(data['x'], data['y'])"
   ]
  },
  {
   "cell_type": "code",
   "execution_count": 12,
   "metadata": {},
   "outputs": [],
   "source": [
    "from datetime import datetime"
   ]
  },
  {
   "cell_type": "code",
   "execution_count": 13,
   "metadata": {},
   "outputs": [],
   "source": [
    "date1=ipo_df[\"Dates\"]\n",
    "date1= [datetime.strptime(x,'%m/%d/%y') for x in date1]\n",
    "ipo_df[\"New_Dates\"]= date1"
   ]
  },
  {
   "cell_type": "code",
   "execution_count": 14,
   "metadata": {},
   "outputs": [
    {
     "data": {
      "image/png": "[encoded data removed]",
      "text/plain": [
       "<Figure size 432x288 with 1 Axes>"
      ]
     },
     "metadata": {
      "needs_background": "light"
     },
     "output_type": "display_data"
    }
   ],
   "source": [
    "ipo_df.pivot(index=\"New_Dates\",columns=\"Ticker\",values=\"Market Cap\").plot()\n",
    "plt.show()"
   ]
  },
  {
   "cell_type": "code",
   "execution_count": 15,
   "metadata": {},
   "outputs": [
    {
     "name": "stderr",
     "output_type": "stream",
     "text": [
      "/Users/maneeshamovva/opt/anaconda3/envs/PythonData/lib/python3.7/site-packages/ipykernel_launcher.py:3: SettingWithCopyWarning: \n",
      "A value is trying to be set on a copy of a slice from a DataFrame.\n",
      "Try using .loc[row_indexer,col_indexer] = value instead\n",
      "\n",
      "See the caveats in the documentation: https://pandas.pydata.org/pandas-docs/stable/user_guide/indexing.html#returning-a-view-versus-a-copy\n",
      "  This is separate from the ipykernel package so we can avoid doing imports until\n"
     ]
    }
   ],
   "source": [
    "date=spacs_df[\"Dates\"]\n",
    "date= [datetime.strptime(x,'%m/%d/%y') for x in date]\n",
    "spacs_df[\"New_Dates\"]=date"
   ]
  },
  {
   "cell_type": "code",
   "execution_count": 16,
   "metadata": {},
   "outputs": [
    {
     "data": {
      "text/plain": [
       "Ticker\n",
       "ETAC US Equity    87\n",
       "MIT US Equity     69\n",
       "PACE US Equity    87\n",
       "RTP US Equity     87\n",
       "SCOA US Equity    86\n",
       "Name: Ticker, dtype: int64"
      ]
     },
     "execution_count": 16,
     "metadata": {},
     "output_type": "execute_result"
    }
   ],
   "source": [
    "spacs_df.groupby(\"Ticker\")[\"Ticker\"].count()"
   ]
  },
  {
   "cell_type": "code",
   "execution_count": 17,
   "metadata": {},
   "outputs": [
    {
     "data": {
      "image/png": "[encoded data removed]",
      "text/plain": [
       "<Figure size 432x288 with 1 Axes>"
      ]
     },
     "metadata": {
      "needs_background": "light"
     },
     "output_type": "display_data"
    }
   ],
   "source": [
    "spacs_df.pivot(index=\"New_Dates\",columns=\"Ticker\",values=\"Market Cap\").plot()\n",
    "plt.show()"
   ]
  }
 ],
 "metadata": {
  "kernelspec": {
   "display_name": "Python 3",
   "language": "python",
   "name": "python3"
  },
  "language_info": {
   "codemirror_mode": {
    "name": "ipython",
    "version": 3
   },
   "file_extension": ".py",
   "mimetype": "text/x-python",
   "name": "python",
   "nbconvert_exporter": "python",
   "pygments_lexer": "ipython3",
   "version": "3.7.9"
  }
 },
 "nbformat": 4,
 "nbformat_minor": 4
}
