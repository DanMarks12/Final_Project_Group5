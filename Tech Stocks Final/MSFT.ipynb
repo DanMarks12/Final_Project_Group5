{
 "cells": [
  {
   "cell_type": "code",
   "execution_count": 3,
   "metadata": {},
   "outputs": [],
   "source": [
    "import pandas as pd\n",
    "import datetime as dt\n",
    "import hvplot.pandas"
   ]
  },
  {
   "cell_type": "code",
   "execution_count": 4,
   "metadata": {},
   "outputs": [
    {
     "data": {
      "text/html": [
       "<div>\n",
       "<style scoped>\n",
       "    .dataframe tbody tr th:only-of-type {\n",
       "        vertical-align: middle;\n",
       "    }\n",
       "\n",
       "    .dataframe tbody tr th {\n",
       "        vertical-align: top;\n",
       "    }\n",
       "\n",
       "    .dataframe thead th {\n",
       "        text-align: right;\n",
       "    }\n",
       "</style>\n",
       "<table border=\"1\" class=\"dataframe\">\n",
       "  <thead>\n",
       "    <tr style=\"text-align: right;\">\n",
       "      <th></th>\n",
       "      <th>Date</th>\n",
       "      <th>Open Price</th>\n",
       "      <th>Close Price</th>\n",
       "      <th>High Price</th>\n",
       "      <th>Low Price</th>\n",
       "    </tr>\n",
       "  </thead>\n",
       "  <tbody>\n",
       "    <tr>\n",
       "      <th>0</th>\n",
       "      <td>2020-05-08</td>\n",
       "      <td>184.98</td>\n",
       "      <td>184.68</td>\n",
       "      <td>185.00</td>\n",
       "      <td>183.36</td>\n",
       "    </tr>\n",
       "    <tr>\n",
       "      <th>1</th>\n",
       "      <td>2020-05-11</td>\n",
       "      <td>183.15</td>\n",
       "      <td>186.74</td>\n",
       "      <td>187.51</td>\n",
       "      <td>182.85</td>\n",
       "    </tr>\n",
       "    <tr>\n",
       "      <th>2</th>\n",
       "      <td>2020-05-12</td>\n",
       "      <td>186.80</td>\n",
       "      <td>182.51</td>\n",
       "      <td>187.04</td>\n",
       "      <td>182.30</td>\n",
       "    </tr>\n",
       "    <tr>\n",
       "      <th>3</th>\n",
       "      <td>2020-05-13</td>\n",
       "      <td>182.55</td>\n",
       "      <td>179.75</td>\n",
       "      <td>184.05</td>\n",
       "      <td>176.54</td>\n",
       "    </tr>\n",
       "    <tr>\n",
       "      <th>4</th>\n",
       "      <td>2020-05-14</td>\n",
       "      <td>177.54</td>\n",
       "      <td>180.53</td>\n",
       "      <td>180.69</td>\n",
       "      <td>175.68</td>\n",
       "    </tr>\n",
       "  </tbody>\n",
       "</table>\n",
       "</div>"
      ],
      "text/plain": [
       "         Date  Open Price  Close Price  High Price  Low Price\n",
       "0  2020-05-08      184.98       184.68      185.00     183.36\n",
       "1  2020-05-11      183.15       186.74      187.51     182.85\n",
       "2  2020-05-12      186.80       182.51      187.04     182.30\n",
       "3  2020-05-13      182.55       179.75      184.05     176.54\n",
       "4  2020-05-14      177.54       180.53      180.69     175.68"
      ]
     },
     "execution_count": 4,
     "metadata": {},
     "output_type": "execute_result"
    }
   ],
   "source": [
    "msft_data = pd.read_csv('C:/Users/lrosa/OneDrive/Documents/MSFT.csv')\n",
    "msft_data.head()"
   ]
  },
  {
   "cell_type": "code",
   "execution_count": 5,
   "metadata": {},
   "outputs": [
    {
     "data": {
      "text/plain": [
       "Date            object\n",
       "Open Price     float64\n",
       "Close Price    float64\n",
       "High Price     float64\n",
       "Low Price      float64\n",
       "dtype: object"
      ]
     },
     "execution_count": 5,
     "metadata": {},
     "output_type": "execute_result"
    }
   ],
   "source": [
    "msft_data.dtypes"
   ]
  },
  {
   "cell_type": "code",
   "execution_count": 6,
   "metadata": {},
   "outputs": [
    {
     "data": {
      "text/html": [
       "<div>\n",
       "<style scoped>\n",
       "    .dataframe tbody tr th:only-of-type {\n",
       "        vertical-align: middle;\n",
       "    }\n",
       "\n",
       "    .dataframe tbody tr th {\n",
       "        vertical-align: top;\n",
       "    }\n",
       "\n",
       "    .dataframe thead th {\n",
       "        text-align: right;\n",
       "    }\n",
       "</style>\n",
       "<table border=\"1\" class=\"dataframe\">\n",
       "  <thead>\n",
       "    <tr style=\"text-align: right;\">\n",
       "      <th></th>\n",
       "      <th>Date</th>\n",
       "      <th>Open Price</th>\n",
       "      <th>Close Price</th>\n",
       "      <th>High Price</th>\n",
       "      <th>Low Price</th>\n",
       "    </tr>\n",
       "  </thead>\n",
       "  <tbody>\n",
       "    <tr>\n",
       "      <th>0</th>\n",
       "      <td>2020-05-08</td>\n",
       "      <td>184.98</td>\n",
       "      <td>184.68</td>\n",
       "      <td>185.00</td>\n",
       "      <td>183.36</td>\n",
       "    </tr>\n",
       "    <tr>\n",
       "      <th>1</th>\n",
       "      <td>2020-05-11</td>\n",
       "      <td>183.15</td>\n",
       "      <td>186.74</td>\n",
       "      <td>187.51</td>\n",
       "      <td>182.85</td>\n",
       "    </tr>\n",
       "    <tr>\n",
       "      <th>2</th>\n",
       "      <td>2020-05-12</td>\n",
       "      <td>186.80</td>\n",
       "      <td>182.51</td>\n",
       "      <td>187.04</td>\n",
       "      <td>182.30</td>\n",
       "    </tr>\n",
       "    <tr>\n",
       "      <th>3</th>\n",
       "      <td>2020-05-13</td>\n",
       "      <td>182.55</td>\n",
       "      <td>179.75</td>\n",
       "      <td>184.05</td>\n",
       "      <td>176.54</td>\n",
       "    </tr>\n",
       "    <tr>\n",
       "      <th>4</th>\n",
       "      <td>2020-05-14</td>\n",
       "      <td>177.54</td>\n",
       "      <td>180.53</td>\n",
       "      <td>180.69</td>\n",
       "      <td>175.68</td>\n",
       "    </tr>\n",
       "  </tbody>\n",
       "</table>\n",
       "</div>"
      ],
      "text/plain": [
       "         Date  Open Price  Close Price  High Price  Low Price\n",
       "0  2020-05-08      184.98       184.68      185.00     183.36\n",
       "1  2020-05-11      183.15       186.74      187.51     182.85\n",
       "2  2020-05-12      186.80       182.51      187.04     182.30\n",
       "3  2020-05-13      182.55       179.75      184.05     176.54\n",
       "4  2020-05-14      177.54       180.53      180.69     175.68"
      ]
     },
     "execution_count": 6,
     "metadata": {},
     "output_type": "execute_result"
    }
   ],
   "source": [
    "msft_data.head()"
   ]
  },
  {
   "cell_type": "code",
   "execution_count": 7,
   "metadata": {},
   "outputs": [
    {
     "name": "stdout",
     "output_type": "stream",
     "text": [
      "Date            object\n",
      "Open Price     float64\n",
      "Close Price    float64\n",
      "High Price     float64\n",
      "Low Price      float64\n",
      "dtype: object\n"
     ]
    }
   ],
   "source": [
    "print(msft_data.dtypes)"
   ]
  },
  {
   "cell_type": "code",
   "execution_count": 8,
   "metadata": {},
   "outputs": [
    {
     "data": {
      "text/html": [
       "<div>\n",
       "<style scoped>\n",
       "    .dataframe tbody tr th:only-of-type {\n",
       "        vertical-align: middle;\n",
       "    }\n",
       "\n",
       "    .dataframe tbody tr th {\n",
       "        vertical-align: top;\n",
       "    }\n",
       "\n",
       "    .dataframe thead th {\n",
       "        text-align: right;\n",
       "    }\n",
       "</style>\n",
       "<table border=\"1\" class=\"dataframe\">\n",
       "  <thead>\n",
       "    <tr style=\"text-align: right;\">\n",
       "      <th></th>\n",
       "      <th>Date</th>\n",
       "      <th>Open Price</th>\n",
       "      <th>Close Price</th>\n",
       "      <th>High Price</th>\n",
       "      <th>Low Price</th>\n",
       "    </tr>\n",
       "  </thead>\n",
       "  <tbody>\n",
       "    <tr>\n",
       "      <th>0</th>\n",
       "      <td>2020-05-08</td>\n",
       "      <td>184.98</td>\n",
       "      <td>184.68</td>\n",
       "      <td>185.00</td>\n",
       "      <td>183.36</td>\n",
       "    </tr>\n",
       "    <tr>\n",
       "      <th>1</th>\n",
       "      <td>2020-05-11</td>\n",
       "      <td>183.15</td>\n",
       "      <td>186.74</td>\n",
       "      <td>187.51</td>\n",
       "      <td>182.85</td>\n",
       "    </tr>\n",
       "    <tr>\n",
       "      <th>2</th>\n",
       "      <td>2020-05-12</td>\n",
       "      <td>186.80</td>\n",
       "      <td>182.51</td>\n",
       "      <td>187.04</td>\n",
       "      <td>182.30</td>\n",
       "    </tr>\n",
       "    <tr>\n",
       "      <th>3</th>\n",
       "      <td>2020-05-13</td>\n",
       "      <td>182.55</td>\n",
       "      <td>179.75</td>\n",
       "      <td>184.05</td>\n",
       "      <td>176.54</td>\n",
       "    </tr>\n",
       "    <tr>\n",
       "      <th>4</th>\n",
       "      <td>2020-05-14</td>\n",
       "      <td>177.54</td>\n",
       "      <td>180.53</td>\n",
       "      <td>180.69</td>\n",
       "      <td>175.68</td>\n",
       "    </tr>\n",
       "  </tbody>\n",
       "</table>\n",
       "</div>"
      ],
      "text/plain": [
       "         Date  Open Price  Close Price  High Price  Low Price\n",
       "0  2020-05-08      184.98       184.68      185.00     183.36\n",
       "1  2020-05-11      183.15       186.74      187.51     182.85\n",
       "2  2020-05-12      186.80       182.51      187.04     182.30\n",
       "3  2020-05-13      182.55       179.75      184.05     176.54\n",
       "4  2020-05-14      177.54       180.53      180.69     175.68"
      ]
     },
     "execution_count": 8,
     "metadata": {},
     "output_type": "execute_result"
    }
   ],
   "source": [
    "msft_data.head()"
   ]
  },
  {
   "cell_type": "code",
   "execution_count": 9,
   "metadata": {},
   "outputs": [
    {
     "data": {
      "text/html": [
       "<div>\n",
       "<style scoped>\n",
       "    .dataframe tbody tr th:only-of-type {\n",
       "        vertical-align: middle;\n",
       "    }\n",
       "\n",
       "    .dataframe tbody tr th {\n",
       "        vertical-align: top;\n",
       "    }\n",
       "\n",
       "    .dataframe thead th {\n",
       "        text-align: right;\n",
       "    }\n",
       "</style>\n",
       "<table border=\"1\" class=\"dataframe\">\n",
       "  <thead>\n",
       "    <tr style=\"text-align: right;\">\n",
       "      <th></th>\n",
       "      <th>Open Price</th>\n",
       "      <th>Close Price</th>\n",
       "      <th>High Price</th>\n",
       "      <th>Low Price</th>\n",
       "    </tr>\n",
       "    <tr>\n",
       "      <th>Date</th>\n",
       "      <th></th>\n",
       "      <th></th>\n",
       "      <th></th>\n",
       "      <th></th>\n",
       "    </tr>\n",
       "  </thead>\n",
       "  <tbody>\n",
       "    <tr>\n",
       "      <th>2020-05-08</th>\n",
       "      <td>184.98</td>\n",
       "      <td>184.68</td>\n",
       "      <td>185.00</td>\n",
       "      <td>183.36</td>\n",
       "    </tr>\n",
       "    <tr>\n",
       "      <th>2020-05-11</th>\n",
       "      <td>183.15</td>\n",
       "      <td>186.74</td>\n",
       "      <td>187.51</td>\n",
       "      <td>182.85</td>\n",
       "    </tr>\n",
       "    <tr>\n",
       "      <th>2020-05-12</th>\n",
       "      <td>186.80</td>\n",
       "      <td>182.51</td>\n",
       "      <td>187.04</td>\n",
       "      <td>182.30</td>\n",
       "    </tr>\n",
       "    <tr>\n",
       "      <th>2020-05-13</th>\n",
       "      <td>182.55</td>\n",
       "      <td>179.75</td>\n",
       "      <td>184.05</td>\n",
       "      <td>176.54</td>\n",
       "    </tr>\n",
       "    <tr>\n",
       "      <th>2020-05-14</th>\n",
       "      <td>177.54</td>\n",
       "      <td>180.53</td>\n",
       "      <td>180.69</td>\n",
       "      <td>175.68</td>\n",
       "    </tr>\n",
       "    <tr>\n",
       "      <th>...</th>\n",
       "      <td>...</td>\n",
       "      <td>...</td>\n",
       "      <td>...</td>\n",
       "      <td>...</td>\n",
       "    </tr>\n",
       "    <tr>\n",
       "      <th>2020-09-23</th>\n",
       "      <td>207.90</td>\n",
       "      <td>200.59</td>\n",
       "      <td>208.10</td>\n",
       "      <td>200.03</td>\n",
       "    </tr>\n",
       "    <tr>\n",
       "      <th>2020-09-24</th>\n",
       "      <td>199.85</td>\n",
       "      <td>203.19</td>\n",
       "      <td>205.57</td>\n",
       "      <td>199.20</td>\n",
       "    </tr>\n",
       "    <tr>\n",
       "      <th>2020-09-25</th>\n",
       "      <td>203.55</td>\n",
       "      <td>207.82</td>\n",
       "      <td>209.04</td>\n",
       "      <td>202.54</td>\n",
       "    </tr>\n",
       "    <tr>\n",
       "      <th>2020-09-28</th>\n",
       "      <td>210.88</td>\n",
       "      <td>209.44</td>\n",
       "      <td>212.57</td>\n",
       "      <td>208.06</td>\n",
       "    </tr>\n",
       "    <tr>\n",
       "      <th>2020-09-29</th>\n",
       "      <td>209.35</td>\n",
       "      <td>207.26</td>\n",
       "      <td>210.07</td>\n",
       "      <td>206.81</td>\n",
       "    </tr>\n",
       "  </tbody>\n",
       "</table>\n",
       "<p>100 rows × 4 columns</p>\n",
       "</div>"
      ],
      "text/plain": [
       "            Open Price  Close Price  High Price  Low Price\n",
       "Date                                                      \n",
       "2020-05-08      184.98       184.68      185.00     183.36\n",
       "2020-05-11      183.15       186.74      187.51     182.85\n",
       "2020-05-12      186.80       182.51      187.04     182.30\n",
       "2020-05-13      182.55       179.75      184.05     176.54\n",
       "2020-05-14      177.54       180.53      180.69     175.68\n",
       "...                ...          ...         ...        ...\n",
       "2020-09-23      207.90       200.59      208.10     200.03\n",
       "2020-09-24      199.85       203.19      205.57     199.20\n",
       "2020-09-25      203.55       207.82      209.04     202.54\n",
       "2020-09-28      210.88       209.44      212.57     208.06\n",
       "2020-09-29      209.35       207.26      210.07     206.81\n",
       "\n",
       "[100 rows x 4 columns]"
      ]
     },
     "execution_count": 9,
     "metadata": {},
     "output_type": "execute_result"
    }
   ],
   "source": [
    "file_path = 'C:/Users/lrosa/OneDrive/Documents/msft.csv'\n",
    "msft_df = pd.read_csv(file_path, index_col=0)\n",
    "msft_df.head(100)"
   ]
  },
  {
   "cell_type": "code",
   "execution_count": 10,
   "metadata": {},
   "outputs": [
    {
     "data": {
      "text/plain": [
       "<AxesSubplot:xlabel='Date'>"
      ]
     },
     "execution_count": 10,
     "metadata": {},
     "output_type": "execute_result"
    },
    {
     "data": {
      "image/png": "[encoded data removed]",
      "text/plain": [
       "<Figure size 432x288 with 1 Axes>"
      ]
     },
     "metadata": {
      "needs_background": "light"
     },
     "output_type": "display_data"
    }
   ],
   "source": [
    "msft_df.plot.bar()"
   ]
  },
  {
   "cell_type": "code",
   "execution_count": 11,
   "metadata": {},
   "outputs": [],
   "source": [
    "%matplotlib inline"
   ]
  },
  {
   "cell_type": "code",
   "execution_count": 12,
   "metadata": {},
   "outputs": [],
   "source": [
    "msft_data.to_csv(\"msft1_data.csv\")"
   ]
  },
  {
   "cell_type": "code",
   "execution_count": null,
   "metadata": {},
   "outputs": [],
   "source": []
  }
 ],
 "metadata": {
  "kernelspec": {
   "display_name": "PythonData",
   "language": "python",
   "name": "pythondata"
  },
  "language_info": {
   "codemirror_mode": {
    "name": "ipython",
    "version": 3
   },
   "file_extension": ".py",
   "mimetype": "text/x-python",
   "name": "python",
   "nbconvert_exporter": "python",
   "pygments_lexer": "ipython3",
   "version": "3.7.9"
  }
 },
 "nbformat": 4,
 "nbformat_minor": 4
}
